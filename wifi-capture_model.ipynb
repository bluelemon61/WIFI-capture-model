{
 "cells": [
  {
   "cell_type": "markdown",
   "metadata": {},
   "source": [
    "``` shell\n",
    "git clone https://github.com/clovaai/deep-text-recognition-benchmark.git\n",
    "pip3 install lmdb pillow torchvision nltk natsort\n",
    "pip3 install fire\n",
    "```"
   ]
  },
  {
   "cell_type": "markdown",
   "metadata": {},
   "source": [
    "# Data\n",
    "\n",
    "[IMDB Dataset](https://www.dropbox.com/sh/i39abvnefllx2si/AAAbAYRvxzRp3cIE5HzqUw3ra?e=1&dl=0) to `demo_image/`"
   ]
  },
  {
   "cell_type": "markdown",
   "metadata": {},
   "source": [
    "# Pretrained Model\n",
    "\n",
    "[TPS-ResNet-BiLSTM-Attn-case-sensitive](https://www.dropbox.com/sh/j3xmli4di1zuv3s/AAArdcPgz7UFxIHUuKNOeKv_a?e=1&dl=0)"
   ]
  },
  {
   "cell_type": "markdown",
   "metadata": {},
   "source": [
    "# Demo Test\n",
    "``` shell\n",
    "python demo.py --Transformation TPS --FeatureExtraction ResNet --SequenceModeling BiLSTM --Prediction Attn --image_folder demo_image/ --saved_model TPS-ResNet-BiLSTM-Attn-case-sensitive.pth --sensitive\n",
    "```"
   ]
  },
  {
   "cell_type": "markdown",
   "metadata": {},
   "source": [
    "# Train\n",
    "\n",
    "``` shell\n",
    "python train.py --train_data data/training/ --select_data MJ --valid_data data/validation --Transformation TPS --FeatureExtraction ResNet --SequenceModeling BiLSTM --Prediction Attn --sensitive --character \"0123456789abcdefghijklmnopqrstuvwxyzABCDEFGHIJKLMNOPQRSTUVWXYZ!@#$%^&*()[]_-\" --workers 0 --batch_size 64 --num_iter 15000 --batch_ratio 1.0\n",
    "```"
   ]
  },
  {
   "cell_type": "markdown",
   "metadata": {},
   "source": [
    "# Test\n",
    "\n",
    "``` shell\n",
    "python test.py --eval_data data/evaluation/ --benchmark_all_eval --Transformation TPS --FeatureExtraction ResNet --SequenceModeling BiLSTM --Prediction Attn --sensitive --character \"0123456789abcdefghijklmnopqrstuvwxyzABCDEFGHIJKLMNOPQRSTUVWXYZ!@#$%^&*()[]_-\" --workers 0 --saved_model .\\saved_models\\TPS-ResNet-BiLSTM-Attn-Seed1111\\best_accuracy_24052601.pth\n",
    "```"
   ]
  },
  {
   "cell_type": "markdown",
   "metadata": {},
   "source": [
    "## accuracy:\n",
    "- IIIT5k_3000: 32.933   \n",
    "- SVT: 48.068     \n",
    "- IC03_860: 17.558        \n",
    "- IC03_867: 38.985        \n",
    "- IC13_857: 18.903        \n",
    "- IC13_1015: 32.512       \n",
    "- IC15_1811: 30.039       \n",
    "- IC15_2077: 40.506       \n",
    "- SVTP: 33.488    \n",
    "- CUTE80: 39.583   \n",
    "- total_accuracy: 33.095  \n",
    "- averaged_infer_time: 5.547      \n",
    "- parameters: 49.629"
   ]
  },
  {
   "cell_type": "markdown",
   "metadata": {},
   "source": [
    "# Train\n",
    "\n",
    "``` shell\n",
    " python train.py --train_data data/training/ --select_data MJ-ST --valid_data data/validation --Transformation TPS --FeatureExtraction ResNet --SequenceModeling BiLSTM --Prediction Attn --sensitive --character \"0123456789abcdefghijklmnopqrstuvwxyzABCDEFGHIJKLMNOPQRSTUVWXYZ!@#$%^&*()[]_-\" --workers 0 --batch_size 96 --num_iter 60000 \n",
    "```"
   ]
  },
  {
   "cell_type": "markdown",
   "metadata": {},
   "source": [
    "# Test\n",
    "\n",
    "``` shell\n",
    "python test.py --eval_data data/evaluation/ --benchmark_all_eval --Transformation TPS --FeatureExtraction ResNet --SequenceModeling BiLSTM --Prediction Attn --sensitive --character \"0123456789abcdefghijklmnopqrstuvwxyzABCDEFGHIJKLMNOPQRSTUVWXYZ!@#$%^&*()[]_-\" --workers 0 --saved_model .\\saved_models\\TPS-ResNet-BiLSTM-Attn-Seed1111\\best_accuracy_24052602.pth\n",
    "```"
   ]
  },
  {
   "cell_type": "markdown",
   "metadata": {},
   "source": [
    "## accuracy:\n",
    "- IIIT5k_3000: 39.200   \n",
    "- SVT: 49.304     \n",
    "- IC03_860: 24.302        \n",
    "- IC03_867: 41.869        \n",
    "- IC13_857: 24.504        \n",
    "- IC13_1015: 36.946       \n",
    "- IC15_1811: 35.892       \n",
    "- IC15_2077: 52.045       \n",
    "- SVTP: 37.984    \n",
    "- CUTE80: 57.639   \n",
    "- total_accuracy: 39.704  \n",
    "- averaged_infer_time: 5.583      \n",
    "- parameters: 49.629"
   ]
  }
 ],
 "metadata": {
  "kernelspec": {
   "display_name": "PyTorch",
   "language": "python",
   "name": "python3"
  },
  "language_info": {
   "name": "python",
   "version": "3.11.5"
  }
 },
 "nbformat": 4,
 "nbformat_minor": 2
}
